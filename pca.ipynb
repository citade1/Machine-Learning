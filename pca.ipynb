{
  "nbformat": 4,
  "nbformat_minor": 0,
  "metadata": {
    "colab": {
      "name": "pca.ipynb",
      "provenance": []
    },
    "kernelspec": {
      "name": "python3",
      "display_name": "Python 3"
    },
    "language_info": {
      "name": "python"
    }
  },
  "cells": [
    {
      "cell_type": "code",
      "execution_count": 1,
      "metadata": {
        "id": "_F8IYxiHv3Q8"
      },
      "outputs": [],
      "source": [
        "import numpy as np\n",
        "import matplotlib.pyplot as plt"
      ]
    },
    {
      "cell_type": "code",
      "source": [
        "# create random data matrix (1000 samples x 100 features)\n",
        "random_matrix = np.random.rand(100,1000) \n",
        "# make random matrix zero-mean dataset\n",
        "n = random_matrix.mean(axis=0)\n",
        "matrix = random_matrix-n"
      ],
      "metadata": {
        "id": "8dK-94vYwEdr"
      },
      "execution_count": 22,
      "outputs": []
    },
    {
      "cell_type": "code",
      "source": [
        "# get covariance matrix of the matrix\n",
        "cov_matrix = np.cov(matrix)"
      ],
      "metadata": {
        "id": "JeoY4dT2xL2P"
      },
      "execution_count": 23,
      "outputs": []
    },
    {
      "cell_type": "code",
      "source": [
        "# calculate eigenvalue and its corresponding eigenvector of the covariance matrix\n",
        "eig_val, eig_vec = np.linalg.eig(cov_matrix)"
      ],
      "metadata": {
        "id": "3lkMnrmRyg0F"
      },
      "execution_count": 24,
      "outputs": []
    },
    {
      "cell_type": "code",
      "source": [
        "# sort eig_val and eig_vec according to size of eigenvalue (in decreasing order)\n",
        "idx = eig_val.argsort()\n",
        "eigval_sorted = eig_val[idx][::-1]\n",
        "eigvec_sorted = eig_vec[:,idx][::-1]"
      ],
      "metadata": {
        "id": "XkoIKM9U08-u"
      },
      "execution_count": 25,
      "outputs": []
    },
    {
      "cell_type": "code",
      "source": [
        "# find out explained variance of each eigenvalue\n",
        "variance = [i/sum(eigval_sorted)*100 for i in eigval_sorted]"
      ],
      "metadata": {
        "id": "49lqurogVk4D"
      },
      "execution_count": 30,
      "outputs": []
    },
    {
      "cell_type": "code",
      "source": [
        "# draw chart: Y-axis variance of principal components X-axis principal components\n",
        "x = [i for i in range(matrix.shape[0])]\n",
        "plt.plot(x,variance)\n",
        "# name each axes\n",
        "plt.xlabel('principal component')\n",
        "plt.ylabel('variance')\n",
        "plt.show()"
      ],
      "metadata": {
        "colab": {
          "base_uri": "https://localhost:8080/",
          "height": 281
        },
        "id": "YEXqMvED_TOc",
        "outputId": "8b0fb8bd-c0dd-4885-9133-7c34c190a796"
      },
      "execution_count": 34,
      "outputs": [
        {
          "output_type": "display_data",
          "data": {
            "text/plain": [
              "<Figure size 432x288 with 1 Axes>"
            ],
            "image/png": "[encoded data removed]"
          },
          "metadata": {
            "needs_background": "light"
          }
        }
      ]
    },
    {
      "cell_type": "code",
      "source": [
        "# find out cumulative sum of variances of eigenvalue\n",
        "# this shows how much variance we will have when including each eigenvalue\n",
        "cum_var = np.cumsum(variance)"
      ],
      "metadata": {
        "id": "-Clhuw5LZzv7"
      },
      "execution_count": null,
      "outputs": []
    },
    {
      "cell_type": "code",
      "source": [
        "# determine number of components to be reduced in pca\n",
        "\n",
        "var = 95 # this is a limit. Include components whose cumulative variance are up to 95\n",
        "n = 0 # number of components to be included\n",
        "\n",
        "for i in range(len(cum_var)):\n",
        "    if cum_var<=95:\n",
        "        continue;\n",
        "    else: \n",
        "        n = i+1\n",
        "        break;\n",
        "\n",
        "eigvec_sorted = eigvec_sorted[:,:n]  # choose first n components "
      ],
      "metadata": {
        "id": "VOCeJl9moUrW"
      },
      "execution_count": null,
      "outputs": []
    },
    {
      "cell_type": "code",
      "source": [
        "# perform pca\n",
        "new_matrix = np.array(np.random.rand(100,1000))\n",
        "for i in range(matrix.shape[1]):\n",
        "    for j in range(matrix.shape[0]):\n",
        "        if j==0:\n",
        "            new = matrix[:,i] * eigvec_sorted[j,:]\n",
        "        else:\n",
        "            np.add(new, matrix[:,i] * eigvec_sorted[j,:]) \n",
        "\n",
        "    new_matrix[:,i] = new\n",
        "\n",
        "print(new_matrix)"
      ],
      "metadata": {
        "colab": {
          "base_uri": "https://localhost:8080/"
        },
        "id": "9hf9W2aiWY92",
        "outputId": "690b3e63-c232-425d-8c13-ec399b0cbd5f"
      },
      "execution_count": 44,
      "outputs": [
        {
          "output_type": "stream",
          "name": "stdout",
          "text": [
            "[[-0.02823281  0.01139993 -0.04587694 ... -0.01472936 -0.0281107\n",
            "  -0.00934051]\n",
            " [ 0.07856309 -0.01918377 -0.03212516 ...  0.00204971 -0.04827489\n",
            "   0.00858989]\n",
            " [ 0.01023758 -0.00976888 -0.00850476 ...  0.01212485 -0.03254224\n",
            "  -0.02075383]\n",
            " ...\n",
            " [ 0.01100973 -0.00364036 -0.05858627 ...  0.00718315  0.04968855\n",
            "  -0.04001105]\n",
            " [-0.00736428  0.00387616 -0.00642733 ...  0.01435565  0.01312593\n",
            "  -0.0159567 ]\n",
            " [-0.01805142 -0.04783188  0.05201374 ...  0.02242139  0.03069618\n",
            "   0.00112497]]\n"
          ]
        }
      ]
    }
  ]
}